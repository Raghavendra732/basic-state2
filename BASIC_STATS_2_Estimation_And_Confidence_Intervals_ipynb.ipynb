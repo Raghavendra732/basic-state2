{
  "nbformat": 4,
  "nbformat_minor": 0,
  "metadata": {
    "colab": {
      "provenance": []
    },
    "kernelspec": {
      "name": "python3",
      "display_name": "Python 3"
    },
    "language_info": {
      "name": "python"
    }
  },
  "cells": [
    {
      "cell_type": "code",
      "execution_count": 6,
      "metadata": {
        "id": "6weoB39_cUTH"
      },
      "outputs": [],
      "source": [
        "import pandas as pd\n",
        "import numpy as np"
      ]
    },
    {
      "cell_type": "code",
      "source": [
        "a = np.array([1.13, 1.55, 1.43, 0.92, 1.25, 1.36, 1.32, 0.85, 1.07, 1.48, 1.20, 1.33, 1.18, 1.22, 1.29])"
      ],
      "metadata": {
        "id": "rKDOMw_jc4wS"
      },
      "execution_count": 7,
      "outputs": []
    },
    {
      "cell_type": "code",
      "source": [
        "a.shape"
      ],
      "metadata": {
        "colab": {
          "base_uri": "https://localhost:8080/"
        },
        "id": "0L61BhpgeHit",
        "outputId": "251ec963-08ca-4295-891b-e73d6445b256"
      },
      "execution_count": 8,
      "outputs": [
        {
          "output_type": "execute_result",
          "data": {
            "text/plain": [
              "(15,)"
            ]
          },
          "metadata": {},
          "execution_count": 8
        }
      ]
    },
    {
      "cell_type": "code",
      "source": [
        "a.size"
      ],
      "metadata": {
        "colab": {
          "base_uri": "https://localhost:8080/"
        },
        "id": "lPc8vXkneXUk",
        "outputId": "a545f2e5-917d-40c9-cc0f-28aa3059bc19"
      },
      "execution_count": 9,
      "outputs": [
        {
          "output_type": "execute_result",
          "data": {
            "text/plain": [
              "15"
            ]
          },
          "metadata": {},
          "execution_count": 9
        }
      ]
    },
    {
      "cell_type": "code",
      "source": [
        "a.mean"
      ],
      "metadata": {
        "id": "DNjZcv8jebj6",
        "outputId": "84f37362-de17-4eb2-aa02-f65376e58a32",
        "colab": {
          "base_uri": "https://localhost:8080/"
        }
      },
      "execution_count": 10,
      "outputs": [
        {
          "output_type": "execute_result",
          "data": {
            "text/plain": [
              "<function ndarray.mean>"
            ]
          },
          "metadata": {},
          "execution_count": 10
        }
      ]
    },
    {
      "cell_type": "code",
      "source": [
        "# prompt: Build 99% Confidence Interval Using Sample Standard Deviation\n",
        "# Assuming the sample is representative of the population, construct a 99% confidence interval for the mean number of characters printed before the print-head fails using the sample standard deviation. Explain the steps you take and the rationale behind using the t-distribution for this task.\n",
        "\n",
        "import pandas as pd\n",
        "import numpy as np\n",
        "from scipy import stats\n",
        "\n",
        "a = np.array([1.13, 1.55, 1.43, 0.92, 1.25, 1.36, 1.32, 0.85, 1.07, 1.48, 1.20, 1.33, 1.18, 1.22, 1.29])\n",
        "\n",
        "# Calculate sample statistics\n",
        "sample_mean = np.mean(a)\n",
        "sample_std = np.std(a, ddof=1)  # Use ddof=1 for sample standard deviation\n",
        "sample_size = len(a)\n",
        "\n",
        "# Define the confidence level and find the corresponding t-critical value\n",
        "confidence_level = 0.99\n",
        "alpha = 1 - confidence_level\n",
        "degrees_of_freedom = sample_size - 1\n",
        "t_critical = stats.t.ppf(1 - alpha / 2, degrees_of_freedom)\n",
        "\n",
        "# Calculate the margin of error\n",
        "margin_of_error = t_critical * (sample_std / np.sqrt(sample_size))\n",
        "\n",
        "# Construct the confidence interval\n",
        "confidence_interval = (sample_mean - margin_of_error, sample_mean + margin_of_error)\n",
        "\n",
        "print(f\"Sample Mean: {sample_mean}\")\n",
        "print(f\"Sample Standard Deviation: {sample_std}\")\n",
        "print(f\"Sample Size: {sample_size}\")\n",
        "print(f\"t-critical value: {t_critical}\")\n",
        "print(f\"Margin of Error: {margin_of_error}\")\n",
        "print(f\"99% Confidence Interval: {confidence_interval}\")\n",
        "\n",
        "\n",
        "# Rationale for using the t-distribution:\n",
        "# We use the t-distribution because the population standard deviation is unknown, and we are using the sample standard deviation as an estimate.\n",
        "# When the population standard deviation is unknown and the sample size is relatively small, the t-distribution provides a more accurate representation of the sampling distribution of the mean.\n",
        "# As the sample size increases, the t-distribution approaches the normal distribution."
      ],
      "metadata": {
        "colab": {
          "base_uri": "https://localhost:8080/"
        },
        "id": "Et78c804dTMU",
        "outputId": "3f961c85-5462-485e-b520-60c53068b717"
      },
      "execution_count": 13,
      "outputs": [
        {
          "output_type": "stream",
          "name": "stdout",
          "text": [
            "Sample Mean: 1.2386666666666666\n",
            "Sample Standard Deviation: 0.19316412956959936\n",
            "Sample Size: 15\n",
            "t-critical value: 2.976842734370834\n",
            "Margin of Error: 0.14846932822817596\n",
            "99% Confidence Interval: (1.0901973384384906, 1.3871359948948425)\n"
          ]
        }
      ]
    },
    {
      "cell_type": "code",
      "source": [
        "# prompt: . Build 99% Confidence Interval Using Known Population Standard Deviation\n",
        "# If it were known that the population standard deviation is 0.2 million characters, construct a 99% confidence interval for the mean number of characters printed before failure.\n",
        "\n",
        "import numpy as np\n",
        "from scipy import stats\n",
        "\n",
        "a = np.array([1.13, 1.55, 1.43, 0.92, 1.25, 1.36, 1.32, 0.85, 1.07, 1.48, 1.20, 1.33, 1.18, 1.22, 1.29])\n",
        "\n",
        "# Population standard deviation is known (0.2 million characters)\n",
        "population_std = 0.2\n",
        "sample_mean = np.mean(a)\n",
        "sample_size = len(a)\n",
        "\n",
        "# Confidence level\n",
        "confidence_level = 0.99\n",
        "\n",
        "# Calculate z-critical value for a 99% confidence interval\n",
        "z_critical = stats.norm.ppf(1 - (1 - confidence_level) / 2)\n",
        "\n",
        "# Calculate the margin of error\n",
        "margin_of_error = z_critical * (population_std / np.sqrt(sample_size))\n",
        "\n",
        "# Construct the confidence interval\n",
        "confidence_interval = (sample_mean - margin_of_error, sample_mean + margin_of_error)\n",
        "\n",
        "print(f\"Sample Mean: {sample_mean}\")\n",
        "print(f\"Population Standard Deviation: {population_std}\")\n",
        "print(f\"Sample Size: {sample_size}\")\n",
        "print(f\"z-critical value: {z_critical}\")\n",
        "print(f\"Margin of Error: {margin_of_error}\")\n",
        "print(f\"99% Confidence Interval: {confidence_interval}\")"
      ],
      "metadata": {
        "colab": {
          "base_uri": "https://localhost:8080/"
        },
        "id": "0l5g7klEd5OD",
        "outputId": "40141f8d-6649-45d7-f820-5c60c1e16097"
      },
      "execution_count": 14,
      "outputs": [
        {
          "output_type": "stream",
          "name": "stdout",
          "text": [
            "Sample Mean: 1.2386666666666666\n",
            "Population Standard Deviation: 0.2\n",
            "Sample Size: 15\n",
            "z-critical value: 2.5758293035489004\n",
            "Margin of Error: 0.13301525327090588\n",
            "99% Confidence Interval: (1.1056514133957607, 1.3716819199375725)\n"
          ]
        }
      ]
    }
  ]
}